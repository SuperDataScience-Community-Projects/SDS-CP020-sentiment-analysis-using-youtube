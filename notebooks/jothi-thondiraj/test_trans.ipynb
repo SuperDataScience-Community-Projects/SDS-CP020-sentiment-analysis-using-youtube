{
 "cells": [
  {
   "cell_type": "code",
   "execution_count": 1,
   "metadata": {},
   "outputs": [],
   "source": [
    "a = [[1,2,3],[4,5,6]]"
   ]
  },
  {
   "cell_type": "code",
   "execution_count": 3,
   "metadata": {},
   "outputs": [
    {
     "data": {
      "text/plain": [
       "2"
      ]
     },
     "execution_count": 3,
     "metadata": {},
     "output_type": "execute_result"
    }
   ],
   "source": [
    "len(a)"
   ]
  },
  {
   "cell_type": "code",
   "execution_count": 2,
   "metadata": {},
   "outputs": [
    {
     "name": "stdout",
     "output_type": "stream",
     "text": [
      "Original: Hola, ¿cómo estás?\n",
      "Translated: Hello how are you?\n",
      "\n",
      "Original: Bonjour, comment ça va?\n",
      "Translated: Hello, how are you?\n",
      "\n",
      "Original: 你好，你好吗？\n",
      "Translated: Hello, are you OK?\n",
      "\n",
      "Original: Привет, как дела?\n",
      "Translated: Hi, how are you?\n",
      "\n",
      "Original: Guten Tag! Wie geht es Ihnen?\n",
      "Translated: Good day How are you?\n",
      "\n",
      "Original: Vanakkam, eppdi irukka?\n",
      "Translated: Vanakkam, what is the meaning of the word?\n",
      "\n"
     ]
    }
   ],
   "source": [
    "from deep_translator import GoogleTranslator\n",
    "\n",
    "# Test sentences in different languages\n",
    "test_sentences = [\n",
    "    \"Hola, ¿cómo estás?\",  # Spanish\n",
    "    \"Bonjour, comment ça va?\",  # French\n",
    "    \"你好，你好吗？\",  # Chinese\n",
    "    \"Привет, как дела?\",  # Russian\n",
    "    \"Guten Tag! Wie geht es Ihnen?\",  # German\n",
    "    \"Vanakkam, eppdi irukka?\"   #Tamil\n",
    "]\n",
    "\n",
    "\n",
    "# Translate each sentence to English\n",
    "for sentence in test_sentences:\n",
    "    translated_text = GoogleTranslator(source='auto', target='en').translate(sentence)\n",
    "    print(f\"Original: {sentence}\")\n",
    "    print(f\"Translated: {translated_text}\\n\")\n"
   ]
  },
  {
   "cell_type": "code",
   "execution_count": null,
   "metadata": {},
   "outputs": [],
   "source": []
  }
 ],
 "metadata": {
  "kernelspec": {
   "display_name": "venv",
   "language": "python",
   "name": "python3"
  },
  "language_info": {
   "codemirror_mode": {
    "name": "ipython",
    "version": 3
   },
   "file_extension": ".py",
   "mimetype": "text/x-python",
   "name": "python",
   "nbconvert_exporter": "python",
   "pygments_lexer": "ipython3",
   "version": "3.12.4"
  }
 },
 "nbformat": 4,
 "nbformat_minor": 2
}
